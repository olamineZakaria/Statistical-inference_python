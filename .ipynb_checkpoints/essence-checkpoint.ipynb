{
 "cells": [
  {
   "cell_type": "code",
   "execution_count": 48,
   "id": "2a3219fb",
   "metadata": {},
   "outputs": [
    {
     "data": {
      "text/plain": [
       "58    27.21\n",
       "31    28.11\n",
       "41    31.84\n",
       "51    31.39\n",
       "59    31.87\n",
       "Name: conso, dtype: float64"
      ]
     },
     "execution_count": 48,
     "metadata": {},
     "output_type": "execute_result"
    }
   ],
   "source": [
    "import pandas as pd\n",
    "import numpy as np\n",
    "import math\n",
    "import matplotlib.pyplot as plot\n",
    "\n",
    "essence_data = pd.read_csv('./data_set/essence.txt')\n",
    "\n",
    "\n",
    "essence_data['conso'].sample(5)"
   ]
  },
  {
   "cell_type": "code",
   "execution_count": 49,
   "id": "38896904",
   "metadata": {},
   "outputs": [
    {
     "name": "stdout",
     "output_type": "stream",
     "text": [
      "La taille n est : 128\n"
     ]
    }
   ],
   "source": [
    "taille = len(essence_data)\n",
    "print(\"La taille n est : \" + str(taille))"
   ]
  },
  {
   "cell_type": "code",
   "execution_count": 50,
   "id": "66ddcd4c",
   "metadata": {},
   "outputs": [
    {
     "name": "stdout",
     "output_type": "stream",
     "text": [
      "la moyenne est : 31.45\n"
     ]
    }
   ],
   "source": [
    "x_bar = np.mean(essence_data['conso'])\n",
    "\n",
    "print(\"la moyenne est : \"+ str(round(x_bar,2)))"
   ]
  },
  {
   "cell_type": "code",
   "execution_count": 19,
   "id": "786e16e6",
   "metadata": {},
   "outputs": [
    {
     "name": "stdout",
     "output_type": "stream",
     "text": [
      "l'ecart type est : 2.15\n"
     ]
    }
   ],
   "source": [
    "ecart = np.std(essence_data['conso'])\n",
    "\n",
    "print(\"l'ecart type est : \"+str(round(ecart,2)))"
   ]
  },
  {
   "cell_type": "code",
   "execution_count": 20,
   "id": "2ef1b9fe",
   "metadata": {},
   "outputs": [
    {
     "name": "stdout",
     "output_type": "stream",
     "text": [
      "la varriance est : 4.63\n"
     ]
    }
   ],
   "source": [
    "vari = np.var(essence_data['conso'])\n",
    "\n",
    "print(\"la varriance est : \"+str(round(vari,2)))"
   ]
  },
  {
   "cell_type": "code",
   "execution_count": 27,
   "id": "0185148a",
   "metadata": {},
   "outputs": [
    {
     "name": "stdout",
     "output_type": "stream",
     "text": [
      "la valeur max est : 36.07\n",
      "la valeur min est : 26.23\n"
     ]
    }
   ],
   "source": [
    "print(\"la valeur max est : \"+str(essence_data['conso'].max()))\n",
    "print(\"la valeur min est : \"+str(essence_data['conso'].min()))\n",
    "\n"
   ]
  },
  {
   "cell_type": "code",
   "execution_count": 36,
   "id": "b0a384f5",
   "metadata": {},
   "outputs": [
    {
     "name": "stdout",
     "output_type": "stream",
     "text": [
      "la Midiane est : 31.55\n"
     ]
    }
   ],
   "source": [
    "me = essence_data['conso'].median()\n",
    "\n",
    "print(\"la Midiane est : \" + str(round(me,2)))"
   ]
  },
  {
   "cell_type": "code",
   "execution_count": 33,
   "id": "190f1b55",
   "metadata": {},
   "outputs": [
    {
     "data": {
      "text/plain": [
       "Text(0.5, 1.0, 'essence Histogramme')"
      ]
     },
     "execution_count": 33,
     "metadata": {},
     "output_type": "execute_result"
    },
    {
     "data": {
      "image/png": "[encoded data removed]",
      "text/plain": [
       "<Figure size 640x480 with 1 Axes>"
      ]
     },
     "metadata": {},
     "output_type": "display_data"
    }
   ],
   "source": [
    "%matplotlib inline\n",
    "\n",
    "plot.hist(essence_data['conso'],bins=range(26,36))\n",
    "plot.title(\"essence Histogramme\")"
   ]
  },
  {
   "cell_type": "code",
   "execution_count": 55,
   "id": "b62af108",
   "metadata": {},
   "outputs": [
    {
     "name": "stderr",
     "output_type": "stream",
     "text": [
      "warning: in the working copy of 'essence.ipynb', LF will be replaced by CRLF the next time Git touches it\n"
     ]
    }
   ],
   "source": []
  },
  {
   "cell_type": "code",
   "execution_count": null,
   "id": "7117c8fd",
   "metadata": {},
   "outputs": [],
   "source": []
  }
 ],
 "metadata": {
  "kernelspec": {
   "display_name": "Python 3 (ipykernel)",
   "language": "python",
   "name": "python3"
  },
  "language_info": {
   "codemirror_mode": {
    "name": "ipython",
    "version": 3
   },
   "file_extension": ".py",
   "mimetype": "text/x-python",
   "name": "python",
   "nbconvert_exporter": "python",
   "pygments_lexer": "ipython3",
   "version": "3.11.3"
  }
 },
 "nbformat": 4,
 "nbformat_minor": 5
}
