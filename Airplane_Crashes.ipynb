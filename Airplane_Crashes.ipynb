{
  "cells": [
    {
      "cell_type": "markdown",
      "metadata": {
        "id": "view-in-github",
        "colab_type": "text"
      },
      "source": [
        "<a href=\"https://colab.research.google.com/github/olamineZakaria/Statistical-inference_python/blob/main/Airplane_Crashes.ipynb\" target=\"_parent\"><img src=\"https://colab.research.google.com/assets/colab-badge.svg\" alt=\"Open In Colab\"/></a>"
      ]
    },
    {
      "cell_type": "code",
      "execution_count": 3,
      "id": "8d525135",
      "metadata": {
        "id": "8d525135"
      },
      "outputs": [],
      "source": [
        "#import libraries libraries\n",
        "import pandas as pd\n",
        "import numpy as np\n",
        "import matplotlib.pyplot as plt\n",
        "from datetime import date, datetime,timedelta\n",
        "\n",
        "\n",
        "df = pd.read_csv('Airplane_Crashes_and_Fatalities_Since_1908.csv')\n"
      ]
    },
    {
      "cell_type": "code",
      "execution_count": null,
      "id": "d0a977b3",
      "metadata": {
        "id": "d0a977b3",
        "outputId": "8322fca0-9d81-43d4-b26e-28d90ad7f76e"
      },
      "outputs": [
        {
          "data": {
            "text/html": [
              "<div>\n",
              "<style scoped>\n",
              "    .dataframe tbody tr th:only-of-type {\n",
              "        vertical-align: middle;\n",
              "    }\n",
              "\n",
              "    .dataframe tbody tr th {\n",
              "        vertical-align: top;\n",
              "    }\n",
              "\n",
              "    .dataframe thead th {\n",
              "        text-align: right;\n",
              "    }\n",
              "</style>\n",
              "<table border=\"1\" class=\"dataframe\">\n",
              "  <thead>\n",
              "    <tr style=\"text-align: right;\">\n",
              "      <th></th>\n",
              "      <th>962</th>\n",
              "      <th>3137</th>\n",
              "      <th>18</th>\n",
              "      <th>4414</th>\n",
              "      <th>305</th>\n",
              "    </tr>\n",
              "  </thead>\n",
              "  <tbody>\n",
              "    <tr>\n",
              "      <th>Date</th>\n",
              "      <td>08/29/1948</td>\n",
              "      <td>05/25/1979</td>\n",
              "      <td>04/07/1918</td>\n",
              "      <td>05/03/1996</td>\n",
              "      <td>09/12/1933</td>\n",
              "    </tr>\n",
              "    <tr>\n",
              "      <th>Time</th>\n",
              "      <td>17:05</td>\n",
              "      <td>15:04</td>\n",
              "      <td>21:30</td>\n",
              "      <td>22:00</td>\n",
              "      <td>NaN</td>\n",
              "    </tr>\n",
              "    <tr>\n",
              "      <th>Location</th>\n",
              "      <td>Near Winona, Minnesota</td>\n",
              "      <td>Chicago O'Hare, Illinois</td>\n",
              "      <td>Over the Mediterranean</td>\n",
              "      <td>Near Haj Yousif, Sudan</td>\n",
              "      <td>Ljubljana, Yugoslavia</td>\n",
              "    </tr>\n",
              "    <tr>\n",
              "      <th>Operator</th>\n",
              "      <td>Northwest Orient Airlines</td>\n",
              "      <td>American Airlines</td>\n",
              "      <td>Military - German Navy</td>\n",
              "      <td>Federal Airlines</td>\n",
              "      <td>Aeroput</td>\n",
              "    </tr>\n",
              "    <tr>\n",
              "      <th>Flight #</th>\n",
              "      <td>421</td>\n",
              "      <td>191</td>\n",
              "      <td>NaN</td>\n",
              "      <td>NaN</td>\n",
              "      <td>NaN</td>\n",
              "    </tr>\n",
              "    <tr>\n",
              "      <th>Route</th>\n",
              "      <td>Chicago - Minneapolis</td>\n",
              "      <td>Chicago, IL- Los Angeles, CA</td>\n",
              "      <td>NaN</td>\n",
              "      <td>Wadi Halfa - Khartoum</td>\n",
              "      <td>NaN</td>\n",
              "    </tr>\n",
              "    <tr>\n",
              "      <th>Type</th>\n",
              "      <td>Martin 202</td>\n",
              "      <td>McDonnell Douglas DC-10-10</td>\n",
              "      <td>Zeppelin L-59 (airship)</td>\n",
              "      <td>Antonov AN-24</td>\n",
              "      <td>Farman F-306</td>\n",
              "    </tr>\n",
              "    <tr>\n",
              "      <th>Registration</th>\n",
              "      <td>NC93044</td>\n",
              "      <td>N110AA</td>\n",
              "      <td>NaN</td>\n",
              "      <td>ST-FAG</td>\n",
              "      <td>YU-SAH</td>\n",
              "    </tr>\n",
              "    <tr>\n",
              "      <th>cn/In</th>\n",
              "      <td>9165</td>\n",
              "      <td>46510/22</td>\n",
              "      <td>NaN</td>\n",
              "      <td>STFA001</td>\n",
              "      <td>NaN</td>\n",
              "    </tr>\n",
              "    <tr>\n",
              "      <th>Aboard</th>\n",
              "      <td>37.0</td>\n",
              "      <td>271.0</td>\n",
              "      <td>23.0</td>\n",
              "      <td>53.0</td>\n",
              "      <td>8.0</td>\n",
              "    </tr>\n",
              "    <tr>\n",
              "      <th>Fatalities</th>\n",
              "      <td>37.0</td>\n",
              "      <td>271.0</td>\n",
              "      <td>23.0</td>\n",
              "      <td>53.0</td>\n",
              "      <td>8.0</td>\n",
              "    </tr>\n",
              "    <tr>\n",
              "      <th>Ground</th>\n",
              "      <td>0.0</td>\n",
              "      <td>2.0</td>\n",
              "      <td>0.0</td>\n",
              "      <td>0.0</td>\n",
              "      <td>0.0</td>\n",
              "    </tr>\n",
              "    <tr>\n",
              "      <th>Summary</th>\n",
              "      <td>Crashed following the separation of the left w...</td>\n",
              "      <td>During takeoff just, as the plane lifted from ...</td>\n",
              "      <td>Exploded and crashed into the sea off the sout...</td>\n",
              "      <td>After a number of failed landing attempts duri...</td>\n",
              "      <td>Crashed during takeoff on the ground of an ins...</td>\n",
              "    </tr>\n",
              "  </tbody>\n",
              "</table>\n",
              "</div>"
            ],
            "text/plain": [
              "                                                           962    \n",
              "Date                                                 08/29/1948  \\\n",
              "Time                                                      17:05   \n",
              "Location                                 Near Winona, Minnesota   \n",
              "Operator                              Northwest Orient Airlines   \n",
              "Flight #                                                    421   \n",
              "Route                                     Chicago - Minneapolis   \n",
              "Type                                                 Martin 202   \n",
              "Registration                                            NC93044   \n",
              "cn/In                                                      9165   \n",
              "Aboard                                                     37.0   \n",
              "Fatalities                                                 37.0   \n",
              "Ground                                                      0.0   \n",
              "Summary       Crashed following the separation of the left w...   \n",
              "\n",
              "                                                           3137   \n",
              "Date                                                 05/25/1979  \\\n",
              "Time                                                      15:04   \n",
              "Location                               Chicago O'Hare, Illinois   \n",
              "Operator                                      American Airlines   \n",
              "Flight #                                                    191   \n",
              "Route                              Chicago, IL- Los Angeles, CA   \n",
              "Type                                 McDonnell Douglas DC-10-10   \n",
              "Registration                                             N110AA   \n",
              "cn/In                                                  46510/22   \n",
              "Aboard                                                    271.0   \n",
              "Fatalities                                                271.0   \n",
              "Ground                                                      2.0   \n",
              "Summary       During takeoff just, as the plane lifted from ...   \n",
              "\n",
              "                                                           18     \n",
              "Date                                                 04/07/1918  \\\n",
              "Time                                                      21:30   \n",
              "Location                                 Over the Mediterranean   \n",
              "Operator                                 Military - German Navy   \n",
              "Flight #                                                    NaN   \n",
              "Route                                                       NaN   \n",
              "Type                                    Zeppelin L-59 (airship)   \n",
              "Registration                                                NaN   \n",
              "cn/In                                                       NaN   \n",
              "Aboard                                                     23.0   \n",
              "Fatalities                                                 23.0   \n",
              "Ground                                                      0.0   \n",
              "Summary       Exploded and crashed into the sea off the sout...   \n",
              "\n",
              "                                                           4414   \n",
              "Date                                                 05/03/1996  \\\n",
              "Time                                                      22:00   \n",
              "Location                                 Near Haj Yousif, Sudan   \n",
              "Operator                                       Federal Airlines   \n",
              "Flight #                                                    NaN   \n",
              "Route                                     Wadi Halfa - Khartoum   \n",
              "Type                                              Antonov AN-24   \n",
              "Registration                                             ST-FAG   \n",
              "cn/In                                                   STFA001   \n",
              "Aboard                                                     53.0   \n",
              "Fatalities                                                 53.0   \n",
              "Ground                                                      0.0   \n",
              "Summary       After a number of failed landing attempts duri...   \n",
              "\n",
              "                                                           305   \n",
              "Date                                                 09/12/1933  \n",
              "Time                                                        NaN  \n",
              "Location                                  Ljubljana, Yugoslavia  \n",
              "Operator                                                Aeroput  \n",
              "Flight #                                                    NaN  \n",
              "Route                                                       NaN  \n",
              "Type                                               Farman F-306  \n",
              "Registration                                             YU-SAH  \n",
              "cn/In                                                       NaN  \n",
              "Aboard                                                      8.0  \n",
              "Fatalities                                                  8.0  \n",
              "Ground                                                      0.0  \n",
              "Summary       Crashed during takeoff on the ground of an ins...  "
            ]
          },
          "execution_count": 2,
          "metadata": {},
          "output_type": "execute_result"
        }
      ],
      "source": [
        "df.sample(5).T"
      ]
    },
    {
      "cell_type": "code",
      "execution_count": null,
      "id": "f7977617",
      "metadata": {
        "id": "f7977617",
        "outputId": "a0095ea4-61fd-4165-c66e-16e53f717a38"
      },
      "outputs": [
        {
          "data": {
            "text/plain": [
              "(5268, 13)"
            ]
          },
          "execution_count": 3,
          "metadata": {},
          "output_type": "execute_result"
        }
      ],
      "source": [
        "df.shape"
      ]
    },
    {
      "cell_type": "markdown",
      "id": "48433071",
      "metadata": {
        "id": "48433071"
      },
      "source": [
        "# Dataset consist of 5268 observations (crashes) and 13 features."
      ]
    },
    {
      "cell_type": "code",
      "execution_count": null,
      "id": "d421dcc9",
      "metadata": {
        "id": "d421dcc9",
        "outputId": "08e25971-07ea-450b-bfab-a16bb28483dd"
      },
      "outputs": [
        {
          "data": {
            "text/plain": [
              "Index(['Date', 'Time', 'Location', 'Operator', 'Flight #', 'Route', 'Type',\n",
              "       'Registration', 'cn/In', 'Aboard', 'Fatalities', 'Ground', 'Summary'],\n",
              "      dtype='object')"
            ]
          },
          "execution_count": 4,
          "metadata": {},
          "output_type": "execute_result"
        }
      ],
      "source": [
        "df.columns"
      ]
    },
    {
      "cell_type": "markdown",
      "id": "8b9b9ffe",
      "metadata": {
        "id": "8b9b9ffe"
      },
      "source": [
        "# Aircraft Crash Information:\n",
        "\n",
        "- **Date:** date the crash\n",
        "- **Time:** time the crash\n",
        "- **Location:** City, Country\n",
        "- **Operator:** Airline Name (Royal air maroc,rayanair,.....)\n",
        "- **Flight #:** Flight Number\n",
        "- **Route:** Departure - Destination\n",
        "- **Type:** Aircraft Type (Boeing 737,Airbus A320,....)\n",
        "- **Registration:** Aircraft Registration (An aircraft registration is a code unique to a single aircraft)\n",
        "- **cn/In:** Construction/Serial Number(is a unique identifier assigned to each individual aircraft during its manufacturing process)\n",
        "- **Aboard:** Number of People Aboard\n",
        "- **Fatalities:** Number of Fatalities\n",
        "- **Ground:** individuals who are not on board the aircraft but are located in the vicinity of the crash site\n",
        "- **Summary:** Brief Summary of the Case\n"
      ]
    },
    {
      "cell_type": "code",
      "execution_count": null,
      "id": "29b9dbe3",
      "metadata": {
        "id": "29b9dbe3",
        "outputId": "3e005475-25c1-43bf-80fe-04994ab7b8e0"
      },
      "outputs": [
        {
          "name": "stdout",
          "output_type": "stream",
          "text": [
            "<class 'pandas.core.frame.DataFrame'>\n",
            "RangeIndex: 5268 entries, 0 to 5267\n",
            "Data columns (total 13 columns):\n",
            " #   Column        Non-Null Count  Dtype  \n",
            "---  ------        --------------  -----  \n",
            " 0   Date          5268 non-null   object \n",
            " 1   Time          3049 non-null   object \n",
            " 2   Location      5248 non-null   object \n",
            " 3   Operator      5250 non-null   object \n",
            " 4   Flight #      1069 non-null   object \n",
            " 5   Route         3561 non-null   object \n",
            " 6   Type          5241 non-null   object \n",
            " 7   Registration  4933 non-null   object \n",
            " 8   cn/In         4040 non-null   object \n",
            " 9   Aboard        5246 non-null   float64\n",
            " 10  Fatalities    5256 non-null   float64\n",
            " 11  Ground        5246 non-null   float64\n",
            " 12  Summary       4878 non-null   object \n",
            "dtypes: float64(3), object(10)\n",
            "memory usage: 535.2+ KB\n"
          ]
        }
      ],
      "source": [
        "df.info()"
      ]
    },
    {
      "cell_type": "code",
      "execution_count": null,
      "id": "3283446a",
      "metadata": {
        "id": "3283446a",
        "outputId": "cc3875a6-96c6-4302-a81a-111b854f4cc7"
      },
      "outputs": [
        {
          "data": {
            "text/plain": [
              "Date                                                   06/01/2009\n",
              "Time                                                        00:15\n",
              "Location        AtlantiOcean, 570 miles northeast of Natal, Br...\n",
              "Operator                                               Air France\n",
              "Flight #                                                      447\n",
              "Route                                      Rio de Janeiro - Paris\n",
              "Type                                              Airbus A330-203\n",
              "Registration                                               F-GZCP\n",
              "cn/In                                                         660\n",
              "Aboard                                                      228.0\n",
              "Fatalities                                                  228.0\n",
              "Ground                                                        0.0\n",
              "Summary         The Airbus went missing over the AtlantiOcean ...\n",
              "Name: 5265, dtype: object"
            ]
          },
          "execution_count": 6,
          "metadata": {},
          "output_type": "execute_result"
        }
      ],
      "source": [
        "df.iloc[5265]"
      ]
    },
    {
      "cell_type": "code",
      "execution_count": null,
      "id": "2451e48f",
      "metadata": {
        "scrolled": true,
        "id": "2451e48f",
        "outputId": "c3feb245-395a-4115-e4c7-0ca952367d60"
      },
      "outputs": [
        {
          "data": {
            "text/plain": [
              "Date               0\n",
              "Time            2219\n",
              "Location          20\n",
              "Operator          18\n",
              "Flight #        4199\n",
              "Route           1707\n",
              "Type              27\n",
              "Registration     335\n",
              "cn/In           1228\n",
              "Aboard            22\n",
              "Fatalities        12\n",
              "Ground            22\n",
              "Summary          390\n",
              "dtype: int64"
            ]
          },
          "execution_count": 7,
          "metadata": {},
          "output_type": "execute_result"
        }
      ],
      "source": [
        "df.isnull().sum()"
      ]
    },
    {
      "cell_type": "code",
      "execution_count": null,
      "id": "3a228636",
      "metadata": {
        "id": "3a228636"
      },
      "outputs": [],
      "source": [
        "df['Time'] = df['Time'].replace(np.nan, '00:00')\n",
        "df['Time'] = df['Time'].str.replace('c: ', '')\n",
        "df['Time'] = df['Time'].str.replace('c:', '')\n",
        "df['Time'] = df['Time'].str.replace('c', '')\n",
        "df['Time'] = df['Time'].str.replace('12\\'20', '12:20')\n",
        "df['Time'] = df['Time'].str.replace('18.40', '18:40')\n",
        "df['Time'] = df['Time'].str.replace('0943', '09:43')\n",
        "df['Time'] = df['Time'].str.replace('22\\'08', '22:08')\n",
        "df['Time'] = df['Time'].str.replace('114:20', '00:00')\n",
        "\n",
        "# Combine 'Date' and 'Time' columns in DateTime\n",
        "\n",
        "df['DateTime'] = df['Date'] + ' ' + df['Time']\n",
        "\n",
        "# Convert 'DateTime' to datetime type\n",
        "\n",
        "def to_date(x):\n",
        "    return datetime.strptime(x, '%m/%d/%Y %H:%M')\n",
        "\n",
        "df['DateTime'] = df['DateTime'].apply(to_date)\n",
        "\n",
        "# Convert 'Operator' column to uppercase duplicate values\n",
        "\n",
        "df['Operator'] = df['Operator'].str.upper()\n",
        "#remove date and time\n",
        "df = df.drop('Date',axis=1)\n",
        "df = df.drop('Time',axis=1)"
      ]
    },
    {
      "cell_type": "code",
      "execution_count": null,
      "id": "0af33ad9",
      "metadata": {
        "id": "0af33ad9"
      },
      "outputs": [],
      "source": [
        "df = df.drop('Registration',axis=1)\n",
        "df = df.drop('Flight #',axis=1)\n",
        "df = df.drop('cn/In',axis=1)"
      ]
    },
    {
      "cell_type": "code",
      "execution_count": null,
      "id": "ad3e96be",
      "metadata": {
        "id": "ad3e96be"
      },
      "outputs": [],
      "source": [
        "split_location = df['Location'].str.split(', ', expand=True)\n",
        "df['City'] = split_location[0]\n",
        "df['Country'] = split_location[1]\n",
        "df = df.drop('Location',axis=1)"
      ]
    },
    {
      "cell_type": "code",
      "execution_count": null,
      "id": "66b25af2",
      "metadata": {
        "id": "66b25af2"
      },
      "outputs": [],
      "source": [
        "df['Company'] = df['Type'].str.extract('([A-Za-z]+)') #manufacturer aircraft"
      ]
    },
    {
      "cell_type": "code",
      "execution_count": null,
      "id": "81310791",
      "metadata": {
        "id": "81310791",
        "outputId": "71f9f73e-a4b4-4b30-bcb3-2b3dd135177d"
      },
      "outputs": [
        {
          "data": {
            "text/html": [
              "<div>\n",
              "<style scoped>\n",
              "    .dataframe tbody tr th:only-of-type {\n",
              "        vertical-align: middle;\n",
              "    }\n",
              "\n",
              "    .dataframe tbody tr th {\n",
              "        vertical-align: top;\n",
              "    }\n",
              "\n",
              "    .dataframe thead th {\n",
              "        text-align: right;\n",
              "    }\n",
              "</style>\n",
              "<table border=\"1\" class=\"dataframe\">\n",
              "  <thead>\n",
              "    <tr style=\"text-align: right;\">\n",
              "      <th></th>\n",
              "      <th>Operator</th>\n",
              "      <th>Route</th>\n",
              "      <th>Type</th>\n",
              "      <th>Aboard</th>\n",
              "      <th>Fatalities</th>\n",
              "      <th>Ground</th>\n",
              "      <th>Summary</th>\n",
              "      <th>DateTime</th>\n",
              "      <th>City</th>\n",
              "      <th>Country</th>\n",
              "      <th>Company</th>\n",
              "    </tr>\n",
              "  </thead>\n",
              "  <tbody>\n",
              "    <tr>\n",
              "      <th>3572</th>\n",
              "      <td>BRITISH AIRTOURS</td>\n",
              "      <td>Manchester - Kerkira</td>\n",
              "      <td>Boeing B-737-236</td>\n",
              "      <td>137.0</td>\n",
              "      <td>55.0</td>\n",
              "      <td>0.0</td>\n",
              "      <td>During takeoff from Manchester, failure of the...</td>\n",
              "      <td>1985-08-22 06:13:00</td>\n",
              "      <td>Manchester</td>\n",
              "      <td>England</td>\n",
              "      <td>Boeing</td>\n",
              "    </tr>\n",
              "  </tbody>\n",
              "</table>\n",
              "</div>"
            ],
            "text/plain": [
              "              Operator                 Route              Type  Aboard   \n",
              "3572  BRITISH AIRTOURS  Manchester - Kerkira  Boeing B-737-236   137.0  \\\n",
              "\n",
              "      Fatalities  Ground                                            Summary   \n",
              "3572        55.0     0.0  During takeoff from Manchester, failure of the...  \\\n",
              "\n",
              "                DateTime        City  Country Company  \n",
              "3572 1985-08-22 06:13:00  Manchester  England  Boeing  "
            ]
          },
          "execution_count": 12,
          "metadata": {},
          "output_type": "execute_result"
        }
      ],
      "source": [
        "df.sample()"
      ]
    },
    {
      "cell_type": "code",
      "execution_count": null,
      "id": "82d7e389",
      "metadata": {
        "id": "82d7e389",
        "outputId": "8453eb31-b0cb-431c-8a76-2bb281bf2549"
      },
      "outputs": [
        {
          "data": {
            "text/plain": [
              "Operator        18\n",
              "Route         1707\n",
              "Type            27\n",
              "Aboard          22\n",
              "Fatalities      12\n",
              "Ground          22\n",
              "Summary        390\n",
              "DateTime         0\n",
              "City            20\n",
              "Country        218\n",
              "Company         27\n",
              "dtype: int64"
            ]
          },
          "execution_count": 13,
          "metadata": {},
          "output_type": "execute_result"
        }
      ],
      "source": [
        "df.isnull().sum()"
      ]
    },
    {
      "cell_type": "code",
      "execution_count": null,
      "id": "4eabb4ca",
      "metadata": {
        "scrolled": false,
        "id": "4eabb4ca",
        "outputId": "c1b5fde3-1a29-4cc0-cefd-5c706d216d42"
      },
      "outputs": [
        {
          "data": {
            "text/plain": [
              "\"\\noperator_counts = df['Operator']\\nfor i in operator_counts:\\n    print(i)\\n    \\n    \\n\""
            ]
          },
          "execution_count": 14,
          "metadata": {},
          "output_type": "execute_result"
        }
      ],
      "source": [
        "'''\n",
        "operator_counts = df['Operator']\n",
        "for i in operator_counts:\n",
        "    print(i)\n",
        "\n",
        "\n",
        "'''\n"
      ]
    },
    {
      "cell_type": "code",
      "execution_count": null,
      "id": "ba1f3fea",
      "metadata": {
        "id": "ba1f3fea",
        "outputId": "6c90122a-76db-4ff7-8b5a-d37a30dc4fdb"
      },
      "outputs": [
        {
          "name": "stdout",
          "output_type": "stream",
          "text": [
            "Number of operators containing 'Air force': 605\n",
            "Number of operators containing 'MILLITARY': 781\n",
            "Number of operators containing 'SERVICE': 250\n",
            "Number of operators containing 'MAIL : 36\n",
            "Number of operators containing 'TRANSPORT': 58\n",
            "Number of operators containing 'EXPRESS': 153\n"
          ]
        }
      ],
      "source": [
        "df['Operator'].fillna('', inplace=True)\n",
        "\n",
        "# Count occurrences of 'MILITARY SERVICE MAIL TRANSPORT EXPRESS' in 'Operator' column\n",
        "air_force_count = df[df['Operator'].str.contains('AIR FORCE', case=False)]['Operator'].count()\n",
        "\n",
        "service_count  = df[df['Operator'].str.contains('SERVICE', case=False)]['Operator'].count()\n",
        "\n",
        "mail_count  = df[df['Operator'].str.contains('MAIL', case=False)]['Operator'].count()\n",
        "\n",
        "express_count  = df[df['Operator'].str.contains('TRANSPORT', case=False)]['Operator'].count()\n",
        "\n",
        "tranpor_count  = df[df['Operator'].str.contains('EXPRESS', case=False)]['Operator'].count()\n",
        "\n",
        "military_count = df[df['Operator'].str.contains('MILITARY', case=False)]['Operator'].count()\n",
        "\n",
        "# Display the count\n",
        "print(\"Number of operators containing 'Air force':\", air_force_count)\n",
        "print(\"Number of operators containing 'MILLITARY':\", military_count)\n",
        "print(\"Number of operators containing 'SERVICE':\", service_count)\n",
        "print(\"Number of operators containing 'MAIL :\", mail_count)\n",
        "print(\"Number of operators containing 'TRANSPORT':\", tranpor_count)\n",
        "print(\"Number of operators containing 'EXPRESS':\", express_count)\n",
        "\n"
      ]
    },
    {
      "cell_type": "code",
      "execution_count": null,
      "id": "543d1a2a",
      "metadata": {
        "scrolled": false,
        "id": "543d1a2a",
        "outputId": "f4ff7394-2eb0-4cdf-aac5-cc03f3fcf5eb"
      },
      "outputs": [
        {
          "data": {
            "text/html": [
              "<div>\n",
              "<style scoped>\n",
              "    .dataframe tbody tr th:only-of-type {\n",
              "        vertical-align: middle;\n",
              "    }\n",
              "\n",
              "    .dataframe tbody tr th {\n",
              "        vertical-align: top;\n",
              "    }\n",
              "\n",
              "    .dataframe thead th {\n",
              "        text-align: right;\n",
              "    }\n",
              "</style>\n",
              "<table border=\"1\" class=\"dataframe\">\n",
              "  <thead>\n",
              "    <tr style=\"text-align: right;\">\n",
              "      <th></th>\n",
              "      <th>Operator</th>\n",
              "      <th>Route</th>\n",
              "      <th>Type</th>\n",
              "      <th>Aboard</th>\n",
              "      <th>Fatalities</th>\n",
              "      <th>Ground</th>\n",
              "      <th>Summary</th>\n",
              "      <th>DateTime</th>\n",
              "      <th>City</th>\n",
              "      <th>Country</th>\n",
              "      <th>Company</th>\n",
              "      <th>Flight Type</th>\n",
              "    </tr>\n",
              "  </thead>\n",
              "  <tbody>\n",
              "    <tr>\n",
              "      <th>0</th>\n",
              "      <td>MILITARY - U.S. ARMY</td>\n",
              "      <td>Demonstration</td>\n",
              "      <td>Wright Flyer III</td>\n",
              "      <td>2.0</td>\n",
              "      <td>1.0</td>\n",
              "      <td>0.0</td>\n",
              "      <td>During a demonstration flight, a U.S. Army fly...</td>\n",
              "      <td>1908-09-17 17:18:00</td>\n",
              "      <td>Fort Myer</td>\n",
              "      <td>Virginia</td>\n",
              "      <td>Wright</td>\n",
              "      <td>military</td>\n",
              "    </tr>\n",
              "    <tr>\n",
              "      <th>1</th>\n",
              "      <td>MILITARY - U.S. NAVY</td>\n",
              "      <td>Test flight</td>\n",
              "      <td>Dirigible</td>\n",
              "      <td>5.0</td>\n",
              "      <td>5.0</td>\n",
              "      <td>0.0</td>\n",
              "      <td>First U.S. dirigible Akron exploded just offsh...</td>\n",
              "      <td>1912-07-12 06:30:00</td>\n",
              "      <td>AtlantiCity</td>\n",
              "      <td>New Jersey</td>\n",
              "      <td>Dirigible</td>\n",
              "      <td>military</td>\n",
              "    </tr>\n",
              "    <tr>\n",
              "      <th>2</th>\n",
              "      <td>PRIVATE</td>\n",
              "      <td>NaN</td>\n",
              "      <td>Curtiss seaplane</td>\n",
              "      <td>1.0</td>\n",
              "      <td>1.0</td>\n",
              "      <td>0.0</td>\n",
              "      <td>The first fatal airplane accident in Canada oc...</td>\n",
              "      <td>1913-08-06 00:00:00</td>\n",
              "      <td>Victoria</td>\n",
              "      <td>British Columbia</td>\n",
              "      <td>Curtiss</td>\n",
              "      <td>private</td>\n",
              "    </tr>\n",
              "    <tr>\n",
              "      <th>3</th>\n",
              "      <td>MILITARY - GERMAN NAVY</td>\n",
              "      <td>NaN</td>\n",
              "      <td>Zeppelin L-1 (airship)</td>\n",
              "      <td>20.0</td>\n",
              "      <td>14.0</td>\n",
              "      <td>0.0</td>\n",
              "      <td>The airship flew into a thunderstorm and encou...</td>\n",
              "      <td>1913-09-09 18:30:00</td>\n",
              "      <td>Over the North Sea</td>\n",
              "      <td>None</td>\n",
              "      <td>Zeppelin</td>\n",
              "      <td>military</td>\n",
              "    </tr>\n",
              "    <tr>\n",
              "      <th>4</th>\n",
              "      <td>MILITARY - GERMAN NAVY</td>\n",
              "      <td>NaN</td>\n",
              "      <td>Zeppelin L-2 (airship)</td>\n",
              "      <td>30.0</td>\n",
              "      <td>30.0</td>\n",
              "      <td>0.0</td>\n",
              "      <td>Hydrogen gas which was being vented was sucked...</td>\n",
              "      <td>1913-10-17 10:30:00</td>\n",
              "      <td>Near Johannisthal</td>\n",
              "      <td>Germany</td>\n",
              "      <td>Zeppelin</td>\n",
              "      <td>military</td>\n",
              "    </tr>\n",
              "  </tbody>\n",
              "</table>\n",
              "</div>"
            ],
            "text/plain": [
              "                 Operator          Route                    Type  Aboard   \n",
              "0    MILITARY - U.S. ARMY  Demonstration        Wright Flyer III     2.0  \\\n",
              "1    MILITARY - U.S. NAVY    Test flight               Dirigible     5.0   \n",
              "2                 PRIVATE            NaN        Curtiss seaplane     1.0   \n",
              "3  MILITARY - GERMAN NAVY            NaN  Zeppelin L-1 (airship)    20.0   \n",
              "4  MILITARY - GERMAN NAVY            NaN  Zeppelin L-2 (airship)    30.0   \n",
              "\n",
              "   Fatalities  Ground                                            Summary   \n",
              "0         1.0     0.0  During a demonstration flight, a U.S. Army fly...  \\\n",
              "1         5.0     0.0  First U.S. dirigible Akron exploded just offsh...   \n",
              "2         1.0     0.0  The first fatal airplane accident in Canada oc...   \n",
              "3        14.0     0.0  The airship flew into a thunderstorm and encou...   \n",
              "4        30.0     0.0  Hydrogen gas which was being vented was sucked...   \n",
              "\n",
              "             DateTime                City           Country    Company   \n",
              "0 1908-09-17 17:18:00           Fort Myer          Virginia     Wright  \\\n",
              "1 1912-07-12 06:30:00         AtlantiCity        New Jersey  Dirigible   \n",
              "2 1913-08-06 00:00:00            Victoria  British Columbia    Curtiss   \n",
              "3 1913-09-09 18:30:00  Over the North Sea              None   Zeppelin   \n",
              "4 1913-10-17 10:30:00   Near Johannisthal           Germany   Zeppelin   \n",
              "\n",
              "  Flight Type  \n",
              "0    military  \n",
              "1    military  \n",
              "2     private  \n",
              "3    military  \n",
              "4    military  "
            ]
          },
          "execution_count": 16,
          "metadata": {},
          "output_type": "execute_result"
        }
      ],
      "source": [
        "import numpy as np\n",
        "\n",
        "# Define conditions for flight type\n",
        "ope_conditions = [\n",
        "    df['Operator'].str.contains('MAIL|EXPRESS|TRANSPORT|SERVICE', case=False, regex=True),\n",
        "    df['Operator'].str.contains('PRIVATE', case=False),\n",
        "    df['Operator'].str.contains('AIR FORCE|MILITARY', case=False, regex=True)\n",
        "]\n",
        "\n",
        "# Define corresponding values for flight type\n",
        "flight_type_values = ['cargo', 'private', 'military']\n",
        "\n",
        "# Create the 'Flight Type' column based on the conditions\n",
        "df['Flight Type'] = np.select(ope_conditions, flight_type_values, default='passenger')\n",
        "\n",
        "# Display the updated DataFrame\n",
        "df.head()\n"
      ]
    },
    {
      "cell_type": "code",
      "execution_count": null,
      "id": "dab9c67d",
      "metadata": {
        "id": "dab9c67d",
        "outputId": "cbc4202c-9052-487c-d6c9-7c5fc41ae634"
      },
      "outputs": [
        {
          "data": {
            "text/html": [
              "<div>\n",
              "<style scoped>\n",
              "    .dataframe tbody tr th:only-of-type {\n",
              "        vertical-align: middle;\n",
              "    }\n",
              "\n",
              "    .dataframe tbody tr th {\n",
              "        vertical-align: top;\n",
              "    }\n",
              "\n",
              "    .dataframe thead th {\n",
              "        text-align: right;\n",
              "    }\n",
              "</style>\n",
              "<table border=\"1\" class=\"dataframe\">\n",
              "  <thead>\n",
              "    <tr style=\"text-align: right;\">\n",
              "      <th></th>\n",
              "      <th>4055</th>\n",
              "      <th>41</th>\n",
              "      <th>5062</th>\n",
              "      <th>4032</th>\n",
              "      <th>5008</th>\n",
              "    </tr>\n",
              "  </thead>\n",
              "  <tbody>\n",
              "    <tr>\n",
              "      <th>Operator</th>\n",
              "      <td>AEROFLOT</td>\n",
              "      <td>US AERIAL MAIL SERVICE</td>\n",
              "      <td>TANS PERU</td>\n",
              "      <td>TAROM</td>\n",
              "      <td>SARIT AIRLINES</td>\n",
              "    </tr>\n",
              "    <tr>\n",
              "      <th>Route</th>\n",
              "      <td>Ellsta - Makhackala</td>\n",
              "      <td>NaN</td>\n",
              "      <td>Lima - Pucallpa - Iquitos</td>\n",
              "      <td>Bucharest - Timisoara</td>\n",
              "      <td>El Obeid - Juba</td>\n",
              "    </tr>\n",
              "    <tr>\n",
              "      <th>Type</th>\n",
              "      <td>Yakovlev YAK-40</td>\n",
              "      <td>De Havilland DH-4</td>\n",
              "      <td>Boeing B-737-244</td>\n",
              "      <td>Ilyushin IL-18V</td>\n",
              "      <td>Antonov AN-12</td>\n",
              "    </tr>\n",
              "    <tr>\n",
              "      <th>Aboard</th>\n",
              "      <td>51.0</td>\n",
              "      <td>1.0</td>\n",
              "      <td>98.0</td>\n",
              "      <td>9.0</td>\n",
              "      <td>4.0</td>\n",
              "    </tr>\n",
              "    <tr>\n",
              "      <th>Fatalities</th>\n",
              "      <td>51.0</td>\n",
              "      <td>1.0</td>\n",
              "      <td>40.0</td>\n",
              "      <td>9.0</td>\n",
              "      <td>4.0</td>\n",
              "    </tr>\n",
              "    <tr>\n",
              "      <th>Ground</th>\n",
              "      <td>0.0</td>\n",
              "      <td>0.0</td>\n",
              "      <td>0.0</td>\n",
              "      <td>0.0</td>\n",
              "      <td>0.0</td>\n",
              "    </tr>\n",
              "    <tr>\n",
              "      <th>Summary</th>\n",
              "      <td>Crashed into a mountain during daytime in poor...</td>\n",
              "      <td>NaN</td>\n",
              "      <td>The plane was about to land at Pucallpa when i...</td>\n",
              "      <td>The cargo plane crashed in a rainstorm.</td>\n",
              "      <td>The cargo plane reported an engine failure and...</td>\n",
              "    </tr>\n",
              "    <tr>\n",
              "      <th>DateTime</th>\n",
              "      <td>1991-11-07 00:00:00</td>\n",
              "      <td>1920-10-15 00:00:00</td>\n",
              "      <td>2005-08-23 15:06:00</td>\n",
              "      <td>1991-08-14 00:00:00</td>\n",
              "      <td>2004-10-05 12:37:00</td>\n",
              "    </tr>\n",
              "    <tr>\n",
              "      <th>City</th>\n",
              "      <td>Makhackala</td>\n",
              "      <td>Batavia</td>\n",
              "      <td>Near Pucallpa</td>\n",
              "      <td>Near Uricani</td>\n",
              "      <td>Kaduqli</td>\n",
              "    </tr>\n",
              "    <tr>\n",
              "      <th>Country</th>\n",
              "      <td>Russia</td>\n",
              "      <td>Illinois</td>\n",
              "      <td>Peru</td>\n",
              "      <td>Romania</td>\n",
              "      <td>Sudan</td>\n",
              "    </tr>\n",
              "    <tr>\n",
              "      <th>Company</th>\n",
              "      <td>Yakovlev</td>\n",
              "      <td>De</td>\n",
              "      <td>Boeing</td>\n",
              "      <td>Ilyushin</td>\n",
              "      <td>Antonov</td>\n",
              "    </tr>\n",
              "    <tr>\n",
              "      <th>Flight Type</th>\n",
              "      <td>passenger</td>\n",
              "      <td>cargo</td>\n",
              "      <td>passenger</td>\n",
              "      <td>passenger</td>\n",
              "      <td>passenger</td>\n",
              "    </tr>\n",
              "  </tbody>\n",
              "</table>\n",
              "</div>"
            ],
            "text/plain": [
              "                                                          4055   \n",
              "Operator                                              AEROFLOT  \\\n",
              "Route                                      Ellsta - Makhackala   \n",
              "Type                                           Yakovlev YAK-40   \n",
              "Aboard                                                    51.0   \n",
              "Fatalities                                                51.0   \n",
              "Ground                                                     0.0   \n",
              "Summary      Crashed into a mountain during daytime in poor...   \n",
              "DateTime                                   1991-11-07 00:00:00   \n",
              "City                                                Makhackala   \n",
              "Country                                                 Russia   \n",
              "Company                                               Yakovlev   \n",
              "Flight Type                                          passenger   \n",
              "\n",
              "                               41     \n",
              "Operator     US AERIAL MAIL SERVICE  \\\n",
              "Route                           NaN   \n",
              "Type              De Havilland DH-4   \n",
              "Aboard                          1.0   \n",
              "Fatalities                      1.0   \n",
              "Ground                          0.0   \n",
              "Summary                         NaN   \n",
              "DateTime        1920-10-15 00:00:00   \n",
              "City                        Batavia   \n",
              "Country                    Illinois   \n",
              "Company                          De   \n",
              "Flight Type                   cargo   \n",
              "\n",
              "                                                          5062   \n",
              "Operator                                             TANS PERU  \\\n",
              "Route                                Lima - Pucallpa - Iquitos   \n",
              "Type                                          Boeing B-737-244   \n",
              "Aboard                                                    98.0   \n",
              "Fatalities                                                40.0   \n",
              "Ground                                                     0.0   \n",
              "Summary      The plane was about to land at Pucallpa when i...   \n",
              "DateTime                                   2005-08-23 15:06:00   \n",
              "City                                             Near Pucallpa   \n",
              "Country                                                   Peru   \n",
              "Company                                                 Boeing   \n",
              "Flight Type                                          passenger   \n",
              "\n",
              "                                                4032   \n",
              "Operator                                       TAROM  \\\n",
              "Route                          Bucharest - Timisoara   \n",
              "Type                                 Ilyushin IL-18V   \n",
              "Aboard                                           9.0   \n",
              "Fatalities                                       9.0   \n",
              "Ground                                           0.0   \n",
              "Summary      The cargo plane crashed in a rainstorm.   \n",
              "DateTime                         1991-08-14 00:00:00   \n",
              "City                                    Near Uricani   \n",
              "Country                                      Romania   \n",
              "Company                                     Ilyushin   \n",
              "Flight Type                                passenger   \n",
              "\n",
              "                                                          5008  \n",
              "Operator                                        SARIT AIRLINES  \n",
              "Route                                          El Obeid - Juba  \n",
              "Type                                             Antonov AN-12  \n",
              "Aboard                                                     4.0  \n",
              "Fatalities                                                 4.0  \n",
              "Ground                                                     0.0  \n",
              "Summary      The cargo plane reported an engine failure and...  \n",
              "DateTime                                   2004-10-05 12:37:00  \n",
              "City                                                   Kaduqli  \n",
              "Country                                                  Sudan  \n",
              "Company                                                Antonov  \n",
              "Flight Type                                          passenger  "
            ]
          },
          "execution_count": 17,
          "metadata": {},
          "output_type": "execute_result"
        }
      ],
      "source": [
        "df.sample(5).T"
      ]
    },
    {
      "cell_type": "code",
      "execution_count": null,
      "id": "891194e4",
      "metadata": {
        "id": "891194e4"
      },
      "outputs": [],
      "source": [
        "new_column_order = ['DateTime', 'City', 'Country', 'Operator', 'Type', 'Company',\n",
        "                    'Route', 'Aboard', 'Fatalities', 'Ground', 'Flight Type', 'Summary']\n",
        "df = df[new_column_order]"
      ]
    },
    {
      "cell_type": "code",
      "execution_count": null,
      "id": "6667d6c5",
      "metadata": {
        "id": "6667d6c5",
        "outputId": "c9220d67-eed0-488b-9230-b405e682d7f6"
      },
      "outputs": [
        {
          "data": {
            "text/html": [
              "<div>\n",
              "<style scoped>\n",
              "    .dataframe tbody tr th:only-of-type {\n",
              "        vertical-align: middle;\n",
              "    }\n",
              "\n",
              "    .dataframe tbody tr th {\n",
              "        vertical-align: top;\n",
              "    }\n",
              "\n",
              "    .dataframe thead th {\n",
              "        text-align: right;\n",
              "    }\n",
              "</style>\n",
              "<table border=\"1\" class=\"dataframe\">\n",
              "  <thead>\n",
              "    <tr style=\"text-align: right;\">\n",
              "      <th></th>\n",
              "      <th>2162</th>\n",
              "      <th>1393</th>\n",
              "      <th>342</th>\n",
              "    </tr>\n",
              "  </thead>\n",
              "  <tbody>\n",
              "    <tr>\n",
              "      <th>DateTime</th>\n",
              "      <td>1967-10-12 07:25:00</td>\n",
              "      <td>1955-09-17 00:00:00</td>\n",
              "      <td>1934-12-08 05:30:00</td>\n",
              "    </tr>\n",
              "    <tr>\n",
              "      <th>City</th>\n",
              "      <td>Off Rhodes</td>\n",
              "      <td>Near Thorhild</td>\n",
              "      <td>Columbia</td>\n",
              "    </tr>\n",
              "    <tr>\n",
              "      <th>Country</th>\n",
              "      <td>Greece</td>\n",
              "      <td>Canada</td>\n",
              "      <td>Missouri</td>\n",
              "    </tr>\n",
              "    <tr>\n",
              "      <th>Operator</th>\n",
              "      <td>BRITISH EUROPEAN AIRWAYS</td>\n",
              "      <td>PACIFIWESTERN AIRLINES</td>\n",
              "      <td>BRANIFF AIRLINES</td>\n",
              "    </tr>\n",
              "    <tr>\n",
              "      <th>Type</th>\n",
              "      <td>de Havilland Comet 4B</td>\n",
              "      <td>Bristol 170 Freighter 31</td>\n",
              "      <td>Lockheed Vega 5C</td>\n",
              "    </tr>\n",
              "    <tr>\n",
              "      <th>Company</th>\n",
              "      <td>de</td>\n",
              "      <td>Bristol</td>\n",
              "      <td>Lockheed</td>\n",
              "    </tr>\n",
              "    <tr>\n",
              "      <th>Route</th>\n",
              "      <td>Athens - Nicosia</td>\n",
              "      <td>Edmonton, AB - Yellowknife, NT</td>\n",
              "      <td>Kansas City, MO - Chicago, IL</td>\n",
              "    </tr>\n",
              "    <tr>\n",
              "      <th>Aboard</th>\n",
              "      <td>66.0</td>\n",
              "      <td>6.0</td>\n",
              "      <td>1.0</td>\n",
              "    </tr>\n",
              "    <tr>\n",
              "      <th>Fatalities</th>\n",
              "      <td>66.0</td>\n",
              "      <td>2.0</td>\n",
              "      <td>1.0</td>\n",
              "    </tr>\n",
              "    <tr>\n",
              "      <th>Ground</th>\n",
              "      <td>0.0</td>\n",
              "      <td>0.0</td>\n",
              "      <td>0.0</td>\n",
              "    </tr>\n",
              "    <tr>\n",
              "      <th>Flight Type</th>\n",
              "      <td>passenger</td>\n",
              "      <td>passenger</td>\n",
              "      <td>passenger</td>\n",
              "    </tr>\n",
              "    <tr>\n",
              "      <th>Summary</th>\n",
              "      <td>While flying at FL 290 the aircraft was destro...</td>\n",
              "      <td>For reasons undetermined, the right engine fai...</td>\n",
              "      <td>The mail plane crashed to the ground from a lo...</td>\n",
              "    </tr>\n",
              "  </tbody>\n",
              "</table>\n",
              "</div>"
            ],
            "text/plain": [
              "                                                          2162   \n",
              "DateTime                                   1967-10-12 07:25:00  \\\n",
              "City                                                Off Rhodes   \n",
              "Country                                                 Greece   \n",
              "Operator                              BRITISH EUROPEAN AIRWAYS   \n",
              "Type                                     de Havilland Comet 4B   \n",
              "Company                                                     de   \n",
              "Route                                         Athens - Nicosia   \n",
              "Aboard                                                    66.0   \n",
              "Fatalities                                                66.0   \n",
              "Ground                                                     0.0   \n",
              "Flight Type                                          passenger   \n",
              "Summary      While flying at FL 290 the aircraft was destro...   \n",
              "\n",
              "                                                          1393   \n",
              "DateTime                                   1955-09-17 00:00:00  \\\n",
              "City                                             Near Thorhild   \n",
              "Country                                                 Canada   \n",
              "Operator                                PACIFIWESTERN AIRLINES   \n",
              "Type                                  Bristol 170 Freighter 31   \n",
              "Company                                                Bristol   \n",
              "Route                           Edmonton, AB - Yellowknife, NT   \n",
              "Aboard                                                     6.0   \n",
              "Fatalities                                                 2.0   \n",
              "Ground                                                     0.0   \n",
              "Flight Type                                          passenger   \n",
              "Summary      For reasons undetermined, the right engine fai...   \n",
              "\n",
              "                                                          342   \n",
              "DateTime                                   1934-12-08 05:30:00  \n",
              "City                                                  Columbia  \n",
              "Country                                               Missouri  \n",
              "Operator                                      BRANIFF AIRLINES  \n",
              "Type                                          Lockheed Vega 5C  \n",
              "Company                                               Lockheed  \n",
              "Route                            Kansas City, MO - Chicago, IL  \n",
              "Aboard                                                     1.0  \n",
              "Fatalities                                                 1.0  \n",
              "Ground                                                     0.0  \n",
              "Flight Type                                          passenger  \n",
              "Summary      The mail plane crashed to the ground from a lo...  "
            ]
          },
          "execution_count": 22,
          "metadata": {},
          "output_type": "execute_result"
        }
      ],
      "source": [
        "df.sample(3).T"
      ]
    },
    {
      "cell_type": "code",
      "execution_count": null,
      "id": "9ec633a8",
      "metadata": {
        "id": "9ec633a8",
        "outputId": "ec6a636f-656a-4283-da17-7f6971d1d035"
      },
      "outputs": [
        {
          "data": {
            "text/plain": [
              "Index(['Operator', 'Route', 'Type', 'Aboard', 'Fatalities', 'Ground',\n",
              "       'Summary', 'DateTime', 'City', 'Country', 'Company', 'Flight Type'],\n",
              "      dtype='object')"
            ]
          },
          "execution_count": 18,
          "metadata": {},
          "output_type": "execute_result"
        }
      ],
      "source": [
        "df.columns"
      ]
    },
    {
      "cell_type": "code",
      "execution_count": null,
      "id": "5711d33e",
      "metadata": {
        "id": "5711d33e"
      },
      "outputs": [],
      "source": [
        "df.to_csv('Airplane_Crashes_V2.csv', index=False)"
      ]
    },
    {
      "cell_type": "code",
      "execution_count": null,
      "id": "3b01a92f",
      "metadata": {
        "id": "3b01a92f"
      },
      "outputs": [],
      "source": []
    },
    {
      "cell_type": "code",
      "execution_count": null,
      "id": "1deceaf4",
      "metadata": {
        "id": "1deceaf4"
      },
      "outputs": [],
      "source": []
    }
  ],
  "metadata": {
    "kernelspec": {
      "display_name": "Python 3 (ipykernel)",
      "language": "python",
      "name": "python3"
    },
    "language_info": {
      "codemirror_mode": {
        "name": "ipython",
        "version": 3
      },
      "file_extension": ".py",
      "mimetype": "text/x-python",
      "name": "python",
      "nbconvert_exporter": "python",
      "pygments_lexer": "ipython3",
      "version": "3.11.3"
    },
    "colab": {
      "provenance": [],
      "include_colab_link": true
    }
  },
  "nbformat": 4,
  "nbformat_minor": 5
}