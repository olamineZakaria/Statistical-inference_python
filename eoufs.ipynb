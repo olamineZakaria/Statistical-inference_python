{
 "cells": [
  {
   "cell_type": "code",
   "execution_count": 12,
   "id": "2b5cc67e",
   "metadata": {},
   "outputs": [
    {
     "data": {
      "text/html": [
       "<div>\n",
       "<style scoped>\n",
       "    .dataframe tbody tr th:only-of-type {\n",
       "        vertical-align: middle;\n",
       "    }\n",
       "\n",
       "    .dataframe tbody tr th {\n",
       "        vertical-align: top;\n",
       "    }\n",
       "\n",
       "    .dataframe thead th {\n",
       "        text-align: right;\n",
       "    }\n",
       "</style>\n",
       "<table border=\"1\" class=\"dataframe\">\n",
       "  <thead>\n",
       "    <tr style=\"text-align: right;\">\n",
       "      <th></th>\n",
       "      <th>masse</th>\n",
       "    </tr>\n",
       "  </thead>\n",
       "  <tbody>\n",
       "    <tr>\n",
       "      <th>24</th>\n",
       "      <td>52.22</td>\n",
       "    </tr>\n",
       "    <tr>\n",
       "      <th>31</th>\n",
       "      <td>53.39</td>\n",
       "    </tr>\n",
       "    <tr>\n",
       "      <th>26</th>\n",
       "      <td>54.78</td>\n",
       "    </tr>\n",
       "    <tr>\n",
       "      <th>12</th>\n",
       "      <td>51.51</td>\n",
       "    </tr>\n",
       "    <tr>\n",
       "      <th>15</th>\n",
       "      <td>55.12</td>\n",
       "    </tr>\n",
       "    <tr>\n",
       "      <th>8</th>\n",
       "      <td>53.89</td>\n",
       "    </tr>\n",
       "    <tr>\n",
       "      <th>20</th>\n",
       "      <td>54.76</td>\n",
       "    </tr>\n",
       "    <tr>\n",
       "      <th>21</th>\n",
       "      <td>55.24</td>\n",
       "    </tr>\n",
       "    <tr>\n",
       "      <th>10</th>\n",
       "      <td>55.91</td>\n",
       "    </tr>\n",
       "    <tr>\n",
       "      <th>6</th>\n",
       "      <td>51.41</td>\n",
       "    </tr>\n",
       "  </tbody>\n",
       "</table>\n",
       "</div>"
      ],
      "text/plain": [
       "    masse\n",
       "24  52.22\n",
       "31  53.39\n",
       "26  54.78\n",
       "12  51.51\n",
       "15  55.12\n",
       "8   53.89\n",
       "20  54.76\n",
       "21  55.24\n",
       "10  55.91\n",
       "6   51.41"
      ]
     },
     "execution_count": 12,
     "metadata": {},
     "output_type": "execute_result"
    }
   ],
   "source": [
    "import pandas as pd\n",
    "import numpy as np\n",
    "import math\n",
    "import matplotlib.pyplot as plt\n",
    "\n",
    "\n",
    "eoufs_data = pd.read_csv('./data_set/eoufs.txt')\n",
    "\n",
    "\n",
    "eoufs_data.sample(10)"
   ]
  },
  {
   "cell_type": "code",
   "execution_count": 3,
   "id": "8bce1920",
   "metadata": {},
   "outputs": [
    {
     "name": "stdout",
     "output_type": "stream",
     "text": [
      "la taille est : 36\n"
     ]
    }
   ],
   "source": [
    "taille = len(eoufs_data['masse'])\n",
    "print(\"la taille est : \"+str(taille))\n"
   ]
  },
  {
   "cell_type": "code",
   "execution_count": 5,
   "id": "f5fe62e0",
   "metadata": {},
   "outputs": [
    {
     "name": "stdout",
     "output_type": "stream",
     "text": [
      "la median est : 54.96\n"
     ]
    }
   ],
   "source": [
    "me = eoufs_data['masse'].median()\n",
    "print(\"la median est : \"+str(me))"
   ]
  },
  {
   "cell_type": "code",
   "execution_count": 6,
   "id": "c3dd31c0",
   "metadata": {},
   "outputs": [
    {
     "name": "stdout",
     "output_type": "stream",
     "text": [
      "la valeur max est 63.15\n",
      "la valeur min est 50.34\n"
     ]
    }
   ],
   "source": [
    "print(\"la valeur max est \"+str(eoufs_data['masse'].max()))\n",
    "print(\"la valeur min est \"+str(eoufs_data['masse'].min()))"
   ]
  },
  {
   "cell_type": "code",
   "execution_count": 10,
   "id": "e06ff7c1",
   "metadata": {},
   "outputs": [
    {
     "name": "stdout",
     "output_type": "stream",
     "text": [
      "la moyenne est 55.08\n",
      "l'ecart type est 2.65\n",
      "la variance est 7.0\n"
     ]
    }
   ],
   "source": [
    "x_bar = np.mean(eoufs_data['masse'])\n",
    "ecart = np.std(eoufs_data['masse'])\n",
    "vari = np.var(eoufs_data['masse'])\n",
    "\n",
    "print(\"la moyenne est \"+str(round(x_bar,2)))\n",
    "print(\"l'ecart type est \"+str(round(ecart,2)))\n",
    "print(\"la variance est \"+str(round(vari,2)))"
   ]
  },
  {
   "cell_type": "code",
   "execution_count": 16,
   "id": "2407fc6f",
   "metadata": {},
   "outputs": [
    {
     "data": {
      "text/plain": [
       "Text(0.5, 1.0, \"'Histogramme masse d''eoufs'\")"
      ]
     },
     "execution_count": 16,
     "metadata": {},
     "output_type": "execute_result"
    },
    {
     "data": {
      "image/png": "[encoded data removed]",
      "text/plain": [
       "<Figure size 640x480 with 1 Axes>"
      ]
     },
     "metadata": {},
     "output_type": "display_data"
    }
   ],
   "source": [
    "%matplotlib inline\n",
    "\n",
    "plt.hist(eoufs_data['masse'],bins=range(50,63))\n",
    "plt.title(\"'Histogramme masse d'eoufs\")"
   ]
  },
  {
   "cell_type": "code",
   "execution_count": null,
   "id": "d555afe3",
   "metadata": {},
   "outputs": [],
   "source": []
  }
 ],
 "metadata": {
  "kernelspec": {
   "display_name": "Python 3 (ipykernel)",
   "language": "python",
   "name": "python3"
  },
  "language_info": {
   "codemirror_mode": {
    "name": "ipython",
    "version": 3
   },
   "file_extension": ".py",
   "mimetype": "text/x-python",
   "name": "python",
   "nbconvert_exporter": "python",
   "pygments_lexer": "ipython3",
   "version": "3.11.3"
  }
 },
 "nbformat": 4,
 "nbformat_minor": 5
}
