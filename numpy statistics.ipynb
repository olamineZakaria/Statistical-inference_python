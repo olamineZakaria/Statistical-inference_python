{
 "cells": [
  {
   "cell_type": "code",
   "execution_count": 17,
   "id": "7a1a0c15",
   "metadata": {},
   "outputs": [
    {
     "name": "stdout",
     "output_type": "stream",
     "text": [
      "[[0.09764874 0.64922001 0.92609824]\n",
      " [0.8117309  0.44394944 0.93676033]\n",
      " [0.52184996 0.54643223 0.31221171]\n",
      " [0.47541674 0.30603755 0.66332894]\n",
      " [0.80276311 0.27571728 0.84817609]]\n",
      "\n",
      "\n",
      "[0.40247863 0.28852731 0.22902203 0.51695629 0.42286529 0.89486148\n",
      " 0.44430536 0.47135826 0.4210527  0.85988964]\n"
     ]
    }
   ],
   "source": [
    "import numpy as np\n",
    "import random \n",
    "\n",
    "# rand return 1-D array with random value between 0 and 1\n",
    "a = np.random.rand(5,3)\n",
    "print(a)\n",
    "print(\"\\n\")\n",
    "b = np.random.random(10)\n",
    "print(b)"
   ]
  },
  {
   "cell_type": "code",
   "execution_count": 22,
   "id": "39eb8a6e",
   "metadata": {},
   "outputs": [
    {
     "name": "stdout",
     "output_type": "stream",
     "text": [
      "[9 5 8 9 9 2 3 7 2 4]\n"
     ]
    }
   ],
   "source": [
    "a = np.random.randint(2,10,10,dtype='i')\n",
    "print(a)"
   ]
  },
  {
   "cell_type": "code",
   "execution_count": 24,
   "id": "69612a0c",
   "metadata": {},
   "outputs": [
    {
     "name": "stdout",
     "output_type": "stream",
     "text": [
      "[-0.77644309 -0.33855826]\n"
     ]
    },
    {
     "data": {
      "text/plain": [
       "<Axes: ylabel='Density'>"
      ]
     },
     "execution_count": 24,
     "metadata": {},
     "output_type": "execute_result"
    },
    {
     "data": {
      "image/png": "[encoded data removed]",
      "text/plain": [
       "<Figure size 640x480 with 1 Axes>"
      ]
     },
     "metadata": {},
     "output_type": "display_data"
    }
   ],
   "source": [
    "import seaborn as sns\n",
    "a = np.random.randn(2)\n",
    "sns.kdeplot(a)"
   ]
  },
  {
   "cell_type": "code",
   "execution_count": 33,
   "id": "8a4905c0",
   "metadata": {},
   "outputs": [
    {
     "name": "stdout",
     "output_type": "stream",
     "text": [
      "[4 5 0 1 2 3]\n",
      "10   2\n",
      "14   10\n",
      "15   8\n",
      "17   7\n",
      "1   3\n",
      "2   5\n",
      "Sorted indices-> [4 5 0 1 2 3]\n"
     ]
    }
   ],
   "source": [
    "x = np.array([10,14,15,17,1,2])\n",
    "y = np.argsort(x) #This function returns the indices that would sort an array.\n",
    "y = np.array([2,10,8,7,3,5])\n",
    "\n",
    "for(i,j) in zip(x,y):\n",
    "    print(i,' ',j)\n",
    "ind = np.lexsort((y, x)) \n",
    "print('Sorted indices->', ind)"
   ]
  },
  {
   "cell_type": "code",
   "execution_count": 29,
   "id": "4783e6fc",
   "metadata": {},
   "outputs": [
    {
     "name": "stdout",
     "output_type": "stream",
     "text": [
      "column a, column b\n",
      "9  4\n",
      "3  6\n",
      "1  9\n",
      "3  2\n",
      "4  1\n",
      "3  8\n",
      "6  7\n",
      "Sorted indices-> [2 3 1 5 4 6 0]\n"
     ]
    }
   ],
   "source": [
    "a = np.array([9, 3, 1, 3, 4, 3, 6])\n",
    "b = np.array([4, 6, 9, 2, 1, 8, 7]) \n",
    "print('column a, column b')\n",
    "for (i, j) in zip(a, b):\n",
    "    print(i, '', j)\n"
   ]
  },
  {
   "cell_type": "code",
   "execution_count": 40,
   "id": "c88f4308",
   "metadata": {},
   "outputs": [
    {
     "name": "stdout",
     "output_type": "stream",
     "text": [
      "Before : [36 18  9  6  4 24 42]\n",
      "After : [ 4  6  9 18 24 36 42]\n"
     ]
    }
   ],
   "source": [
    "z = np.multiply(a,b)\n",
    "\n",
    "print(\"Before :\",z)\n",
    "np.ndarray.sort(z) #this function sort an array\n",
    "print(\"After :\",z)\n"
   ]
  },
  {
   "cell_type": "code",
   "execution_count": 42,
   "id": "05ed41b4",
   "metadata": {},
   "outputs": [
    {
     "name": "stdout",
     "output_type": "stream",
     "text": [
      "[ 1.+4.j  3.+2.j  8.+6.j 15.+2.j]\n"
     ]
    }
   ],
   "source": [
    "z1 = np.array([1+4j,15+2j,3+2j,8+6j])\n",
    "print(np.sort_complex(z1)) #this function sort array of complex number using ral part and then img part\n"
   ]
  },
  {
   "cell_type": "code",
   "execution_count": 44,
   "id": "578312ce",
   "metadata": {},
   "outputs": [
    {
     "name": "stdout",
     "output_type": "stream",
     "text": [
      "[2 3 5 4 6 8 7 9]\n"
     ]
    }
   ],
   "source": [
    "arr = np.array([4,3,5,2,6,8,7,9])\n",
    "\n",
    "print(np.partition(arr,0))"
   ]
  },
  {
   "cell_type": "code",
   "execution_count": 45,
   "id": "db19e898",
   "metadata": {},
   "outputs": [
    {
     "name": "stdout",
     "output_type": "stream",
     "text": [
      "On branch main\n",
      "Your branch is up to date with 'origin/main'.\n",
      "\n",
      "Changes not staged for commit:\n",
      "  (use \"git add <file>...\" to update what will be committed)\n",
      "  (use \"git restore <file>...\" to discard changes in working directory)\n",
      "\tmodified:   .ipynb_checkpoints/eoufs-checkpoint.ipynb\n",
      "\tmodified:   eoufs.ipynb\n",
      "\n",
      "Untracked files:\n",
      "  (use \"git add <file>...\" to include in what will be committed)\n",
      "\t.ipynb_checkpoints/numpy statistics-checkpoint.ipynb\n",
      "\tnumpy statistics.ipynb\n",
      "\n",
      "no changes added to commit (use \"git add\" and/or \"git commit -a\")\n"
     ]
    }
   ],
   "source": [
    "!git commit -m \"done\""
   ]
  },
  {
   "cell_type": "code",
   "execution_count": 46,
   "id": "96d4c768",
   "metadata": {},
   "outputs": [
    {
     "name": "stdout",
     "output_type": "stream",
     "text": [
      "branch 'main' set up to track 'origin/main'."
     ]
    },
    {
     "name": "stderr",
     "output_type": "stream",
     "text": [
      "Everything up-to-date\n"
     ]
    },
    {
     "name": "stdout",
     "output_type": "stream",
     "text": [
      "\n"
     ]
    }
   ],
   "source": [
    "!git push -u origin main"
   ]
  },
  {
   "cell_type": "code",
   "execution_count": null,
   "id": "8fa1a2e3",
   "metadata": {},
   "outputs": [],
   "source": []
  }
 ],
 "metadata": {
  "kernelspec": {
   "display_name": "Python 3 (ipykernel)",
   "language": "python",
   "name": "python3"
  },
  "language_info": {
   "codemirror_mode": {
    "name": "ipython",
    "version": 3
   },
   "file_extension": ".py",
   "mimetype": "text/x-python",
   "name": "python",
   "nbconvert_exporter": "python",
   "pygments_lexer": "ipython3",
   "version": "3.11.3"
  }
 },
 "nbformat": 4,
 "nbformat_minor": 5
}
